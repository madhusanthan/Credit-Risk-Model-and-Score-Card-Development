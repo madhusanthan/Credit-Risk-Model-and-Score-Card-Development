{
 "cells": [
  {
   "cell_type": "code",
   "execution_count": 2,
   "metadata": {
    "id": "GsAqJ7Jn94sO"
   },
   "outputs": [],
   "source": [
    "import pandas as pd\n",
    "import seaborn as sns\n",
    "import numpy as np\n",
    "import warnings\n",
    "warnings.filterwarnings(\"ignore\")\n",
    "\n",
    "import matplotlib.pyplot as plt\n",
    "%matplotlib inline\n",
    "\n",
    "from sklearn.model_selection import train_test_split"
   ]
  },
  {
   "cell_type": "code",
   "execution_count": 3,
   "metadata": {
    "id": "-Zic8O7696mL"
   },
   "outputs": [],
   "source": [
    "loan_data_file = pd.read_csv(\"loan_data_2007_2014.csv\", header = 0, index_col = 0)"
   ]
  },
  {
   "cell_type": "code",
   "execution_count": 4,
   "metadata": {
    "id": "M1EqI5Jl98Wf"
   },
   "outputs": [],
   "source": [
    "# create a new column based on the loan_status column that will be our target variable\n",
    "loan_data_file['good_bad'] = np.where(loan_data_file.loc[:, 'loan_status'].isin(['Charged Off', 'Default',\n",
    "                                                                       'Late (31-120 days)',\n",
    "                                                                       'Does not meet the credit policy. Status:Charged Off']), 0, 1)"
   ]
  },
  {
   "cell_type": "code",
   "execution_count": 5,
   "metadata": {
    "id": "86dtdcEJ-Bgv"
   },
   "outputs": [],
   "source": [
    "# drop columns with more than 80% null values\n",
    "loan_data_file.dropna(thresh = loan_data_file.shape[0]*0.2, how = 'all', axis = 1, inplace = True)"
   ]
  },
  {
   "cell_type": "code",
   "execution_count": 6,
   "metadata": {
    "id": "09eXXPOo-FHc"
   },
   "outputs": [],
   "source": [
    "loan_data_file.drop(columns =['member_id', 'emp_title', 'pymnt_plan', 'url', 'desc', \n",
    "                         'title','zip_code', 'next_pymnt_d', 'recoveries', 'collection_recovery_fee','addr_state', 'mths_since_last_delinq', \n",
    "                         'next_pymnt_d', 'tot_coll_amt', 'tot_cur_bal', 'mths_since_last_major_derog'], axis = 1, inplace = True)"
   ]
  },
  {
   "cell_type": "code",
   "execution_count": 7,
   "metadata": {
    "id": "73W9nYyLLGAB"
   },
   "outputs": [],
   "source": [
    "# Drop the original 'loan_status' column\n",
    "loan_data_file.drop(columns = ['loan_status'], inplace = True)"
   ]
  },
  {
   "cell_type": "code",
   "execution_count": 9,
   "metadata": {
    "id": "TebJftiFLJGo"
   },
   "outputs": [],
   "source": [
    "# split data into 80/20 while keeping the distribution of bad loans in test set same as that in the pre-split dataset\n",
    "X = loan_data_file.drop('good_bad', axis = 1)\n",
    "y = loan_data_file['good_bad']\n",
    "\n",
    "# splitting into test and train after treating variables\n",
    "X_train, X_test, y_train, y_test = train_test_split(\n",
    "    X, y, test_size=0.2,stratify = y, #to keep class balance during splitting,\n",
    "                                             random_state=42)"
   ]
  },
  {
   "cell_type": "code",
   "execution_count": 10,
   "metadata": {
    "id": "U2BIZdt3GgMr"
   },
   "outputs": [],
   "source": [
    "# function to clean up the emp_length column, assign 0 to NANs, and convert to numeric\n",
    "def emp_length_converter(df, column):\n",
    "    df[column] = df[column].str.replace('\\+ years', '')\n",
    "    df[column] = df[column].str.replace('< 1 year', str(0))\n",
    "    df[column] = df[column].str.replace(' years', '')\n",
    "    df[column] = df[column].str.replace(' year', '')\n",
    "    df[column] = pd.to_numeric(df[column])\n",
    "    df[column].fillna(value = 0, inplace = True)"
   ]
  },
  {
   "cell_type": "code",
   "execution_count": 11,
   "metadata": {
    "id": "PLFVLeEkG3k5"
   },
   "outputs": [],
   "source": [
    "emp_length_converter(X_train,'emp_length')\n",
    "emp_length_converter(X_test,'emp_length')"
   ]
  },
  {
   "cell_type": "code",
   "execution_count": 12,
   "metadata": {
    "id": "77xjdRhbGjGR"
   },
   "outputs": [],
   "source": [
    "'''\n",
    "function to convert date columns to datetime format and\n",
    "create a new column as a difference between today and the respective date\n",
    "'''\n",
    "def date_columns(df, column):\n",
    "    # store current month\n",
    "    today_date = pd.to_datetime('2020-08-01')\n",
    "    # convert to datetime format\n",
    "    df[column] = pd.to_datetime(df[column], format = \"%b-%y\")\n",
    "    # calculate the difference in months and add to a new column\n",
    "    df['mths_since_' + column] = round(pd.to_numeric((today_date - df[column]) / \n",
    "\t\t\t\t\t\t\tnp.timedelta64(1, 'M')))\n",
    "    # make any resulting -ve values to be equal to the max date\n",
    "    df['mths_since_' + column] = df['mths_since_' + column].apply(\n",
    "\t\tlambda x: df['mths_since_' + column].max() if x < 0 else x)\n",
    "    # drop the original date column\n",
    "    df.drop(columns = [column], inplace = True)"
   ]
  },
  {
   "cell_type": "code",
   "execution_count": 13,
   "metadata": {
    "id": "JDSDZtLSGnsQ"
   },
   "outputs": [],
   "source": [
    "# apply to df\n",
    "date_columns(X_train, 'earliest_cr_line')\n",
    "date_columns(X_train, 'issue_d')\n",
    "date_columns(X_train, 'last_pymnt_d')\n",
    "date_columns(X_train, 'last_credit_pull_d')\n",
    "date_columns(X_test, 'earliest_cr_line')\n",
    "date_columns(X_test, 'issue_d')\n",
    "date_columns(X_test, 'last_pymnt_d')\n",
    "date_columns(X_test, 'last_credit_pull_d')"
   ]
  },
  {
   "cell_type": "code",
   "execution_count": 14,
   "metadata": {
    "id": "hUBS1ijmGrEC"
   },
   "outputs": [],
   "source": [
    "# function to remove 'months' string from the 'term' column and convert it to numeric\n",
    "def loan_term_converter(df, column):\n",
    "    df[column] = pd.to_numeric(df[column].str.replace(' months', ''))"
   ]
  },
  {
   "cell_type": "code",
   "execution_count": 15,
   "metadata": {
    "id": "KetpEtErHMfd"
   },
   "outputs": [],
   "source": [
    "loan_term_converter(X_train,'term')\n",
    "loan_term_converter(X_test,'term')"
   ]
  },
  {
   "cell_type": "code",
   "execution_count": 16,
   "metadata": {
    "id": "gizLOYQNnl9G"
   },
   "outputs": [],
   "source": [
    "#train = pd.concat([y_train, X_train], axis=1)\n",
    "#test = pd.concat([y_test, X_test], axis=1)\n",
    "#train.to_csv('TrainData.csv',index=False)\n",
    "#test.to_csv('TestData.csv',index=False)"
   ]
  },
  {
   "cell_type": "markdown",
   "metadata": {
    "id": "eXwhfZhIFkuu"
   },
   "source": [
    "## Checking categorical features"
   ]
  },
  {
   "cell_type": "code",
   "execution_count": 17,
   "metadata": {
    "colab": {
     "base_uri": "https://localhost:8080/"
    },
    "id": "VDaeBvJIpl9H",
    "outputId": "090b26c1-c1fa-433d-8149-fd7df677c423"
   },
   "outputs": [
    {
     "name": "stdout",
     "output_type": "stream",
     "text": [
      "Requirement already satisfied: OptBinning in /usr/local/lib/python3.7/dist-packages (0.13.1)\n",
      "Requirement already satisfied: pympler in /usr/local/lib/python3.7/dist-packages (from OptBinning) (1.0.1)\n",
      "Requirement already satisfied: scipy>=1.6.0 in /usr/local/lib/python3.7/dist-packages (from OptBinning) (1.7.3)\n",
      "Requirement already satisfied: pandas in /usr/local/lib/python3.7/dist-packages (from OptBinning) (1.3.5)\n",
      "Requirement already satisfied: dill in /usr/local/lib/python3.7/dist-packages (from OptBinning) (0.3.4)\n",
      "Requirement already satisfied: tdigest in /usr/local/lib/python3.7/dist-packages (from OptBinning) (0.5.2.2)\n",
      "Requirement already satisfied: scikit-learn>=0.22.0 in /usr/local/lib/python3.7/dist-packages (from OptBinning) (1.0.2)\n",
      "Requirement already satisfied: ortools>=7.2 in /usr/local/lib/python3.7/dist-packages (from OptBinning) (9.2.9972)\n",
      "Requirement already satisfied: numpy>=1.16.1 in /usr/local/lib/python3.7/dist-packages (from OptBinning) (1.21.5)\n",
      "Requirement already satisfied: ropwr>=0.2.0 in /usr/local/lib/python3.7/dist-packages (from OptBinning) (0.2.0)\n",
      "Requirement already satisfied: matplotlib in /usr/local/lib/python3.7/dist-packages (from OptBinning) (3.2.2)\n",
      "Requirement already satisfied: absl-py>=0.13 in /usr/local/lib/python3.7/dist-packages (from ortools>=7.2->OptBinning) (1.0.0)\n",
      "Requirement already satisfied: protobuf>=3.19.1 in /usr/local/lib/python3.7/dist-packages (from ortools>=7.2->OptBinning) (3.19.4)\n",
      "Requirement already satisfied: six in /usr/local/lib/python3.7/dist-packages (from absl-py>=0.13->ortools>=7.2->OptBinning) (1.15.0)\n",
      "Requirement already satisfied: cvxpy>=1.0 in /usr/local/lib/python3.7/dist-packages (from ropwr>=0.2.0->OptBinning) (1.0.31)\n",
      "Requirement already satisfied: ecos>=2 in /usr/local/lib/python3.7/dist-packages (from cvxpy>=1.0->ropwr>=0.2.0->OptBinning) (2.0.10)\n",
      "Requirement already satisfied: osqp>=0.4.1 in /usr/local/lib/python3.7/dist-packages (from cvxpy>=1.0->ropwr>=0.2.0->OptBinning) (0.6.2.post0)\n",
      "Requirement already satisfied: multiprocess in /usr/local/lib/python3.7/dist-packages (from cvxpy>=1.0->ropwr>=0.2.0->OptBinning) (0.70.12.2)\n",
      "Requirement already satisfied: scs>=1.1.3 in /usr/local/lib/python3.7/dist-packages (from cvxpy>=1.0->ropwr>=0.2.0->OptBinning) (3.2.0)\n",
      "Requirement already satisfied: qdldl in /usr/local/lib/python3.7/dist-packages (from osqp>=0.4.1->cvxpy>=1.0->ropwr>=0.2.0->OptBinning) (0.1.5.post0)\n",
      "Requirement already satisfied: threadpoolctl>=2.0.0 in /usr/local/lib/python3.7/dist-packages (from scikit-learn>=0.22.0->OptBinning) (3.1.0)\n",
      "Requirement already satisfied: joblib>=0.11 in /usr/local/lib/python3.7/dist-packages (from scikit-learn>=0.22.0->OptBinning) (1.1.0)\n",
      "Requirement already satisfied: cycler>=0.10 in /usr/local/lib/python3.7/dist-packages (from matplotlib->OptBinning) (0.11.0)\n",
      "Requirement already satisfied: python-dateutil>=2.1 in /usr/local/lib/python3.7/dist-packages (from matplotlib->OptBinning) (2.8.2)\n",
      "Requirement already satisfied: kiwisolver>=1.0.1 in /usr/local/lib/python3.7/dist-packages (from matplotlib->OptBinning) (1.3.2)\n",
      "Requirement already satisfied: pyparsing!=2.0.4,!=2.1.2,!=2.1.6,>=2.0.1 in /usr/local/lib/python3.7/dist-packages (from matplotlib->OptBinning) (3.0.7)\n",
      "Requirement already satisfied: pytz>=2017.3 in /usr/local/lib/python3.7/dist-packages (from pandas->OptBinning) (2018.9)\n",
      "Requirement already satisfied: pyudorandom in /usr/local/lib/python3.7/dist-packages (from tdigest->OptBinning) (1.0.0)\n",
      "Requirement already satisfied: accumulation-tree in /usr/local/lib/python3.7/dist-packages (from tdigest->OptBinning) (0.6.2)\n"
     ]
    }
   ],
   "source": [
    "!pip install OptBinning"
   ]
  },
  {
   "cell_type": "markdown",
   "metadata": {
    "id": "fWXi5WpFFoNU"
   },
   "source": [
    "#### Optbinning needs the information whether the features are numerical or categorical. So we are going to verify the dtypes of each column to make sure it's correct."
   ]
  },
  {
   "cell_type": "code",
   "execution_count": 18,
   "metadata": {
    "colab": {
     "base_uri": "https://localhost:8080/"
    },
    "id": "siEjfWhdFswM",
    "outputId": "2b5f10c9-a969-4739-fcb4-a0efd8199199"
   },
   "outputs": [
    {
     "data": {
      "text/plain": [
       "float64    27\n",
       "object      7\n",
       "int64       5\n",
       "dtype: int64"
      ]
     },
     "execution_count": 18,
     "metadata": {},
     "output_type": "execute_result"
    }
   ],
   "source": [
    "X_train.dtypes.value_counts()"
   ]
  },
  {
   "cell_type": "code",
   "execution_count": 19,
   "metadata": {
    "colab": {
     "base_uri": "https://localhost:8080/",
     "height": 455
    },
    "id": "WY459kYvFxIs",
    "outputId": "087e0eff-6be2-43bd-f7b2-603d839258aa"
   },
   "outputs": [
    {
     "data": {
      "text/html": [
       "\n",
       "  <div id=\"df-e787e901-698b-4d8d-88fc-916a94146582\">\n",
       "    <div class=\"colab-df-container\">\n",
       "      <div>\n",
       "<style scoped>\n",
       "    .dataframe tbody tr th:only-of-type {\n",
       "        vertical-align: middle;\n",
       "    }\n",
       "\n",
       "    .dataframe tbody tr th {\n",
       "        vertical-align: top;\n",
       "    }\n",
       "\n",
       "    .dataframe thead th {\n",
       "        text-align: right;\n",
       "    }\n",
       "</style>\n",
       "<table border=\"1\" class=\"dataframe\">\n",
       "  <thead>\n",
       "    <tr style=\"text-align: right;\">\n",
       "      <th></th>\n",
       "      <th>grade</th>\n",
       "      <th>sub_grade</th>\n",
       "      <th>home_ownership</th>\n",
       "      <th>verification_status</th>\n",
       "      <th>purpose</th>\n",
       "      <th>initial_list_status</th>\n",
       "      <th>application_type</th>\n",
       "    </tr>\n",
       "    <tr>\n",
       "      <th>id</th>\n",
       "      <th></th>\n",
       "      <th></th>\n",
       "      <th></th>\n",
       "      <th></th>\n",
       "      <th></th>\n",
       "      <th></th>\n",
       "      <th></th>\n",
       "    </tr>\n",
       "  </thead>\n",
       "  <tbody>\n",
       "    <tr>\n",
       "      <th>10588532</th>\n",
       "      <td>A</td>\n",
       "      <td>A5</td>\n",
       "      <td>MORTGAGE</td>\n",
       "      <td>Source Verified</td>\n",
       "      <td>credit_card</td>\n",
       "      <td>w</td>\n",
       "      <td>INDIVIDUAL</td>\n",
       "    </tr>\n",
       "    <tr>\n",
       "      <th>11215587</th>\n",
       "      <td>D</td>\n",
       "      <td>D3</td>\n",
       "      <td>OWN</td>\n",
       "      <td>Verified</td>\n",
       "      <td>other</td>\n",
       "      <td>f</td>\n",
       "      <td>INDIVIDUAL</td>\n",
       "    </tr>\n",
       "    <tr>\n",
       "      <th>14218271</th>\n",
       "      <td>D</td>\n",
       "      <td>D4</td>\n",
       "      <td>OWN</td>\n",
       "      <td>Source Verified</td>\n",
       "      <td>credit_card</td>\n",
       "      <td>f</td>\n",
       "      <td>INDIVIDUAL</td>\n",
       "    </tr>\n",
       "    <tr>\n",
       "      <th>6504869</th>\n",
       "      <td>A</td>\n",
       "      <td>A1</td>\n",
       "      <td>MORTGAGE</td>\n",
       "      <td>Not Verified</td>\n",
       "      <td>debt_consolidation</td>\n",
       "      <td>w</td>\n",
       "      <td>INDIVIDUAL</td>\n",
       "    </tr>\n",
       "    <tr>\n",
       "      <th>3929378</th>\n",
       "      <td>B</td>\n",
       "      <td>B3</td>\n",
       "      <td>MORTGAGE</td>\n",
       "      <td>Verified</td>\n",
       "      <td>debt_consolidation</td>\n",
       "      <td>f</td>\n",
       "      <td>INDIVIDUAL</td>\n",
       "    </tr>\n",
       "    <tr>\n",
       "      <th>...</th>\n",
       "      <td>...</td>\n",
       "      <td>...</td>\n",
       "      <td>...</td>\n",
       "      <td>...</td>\n",
       "      <td>...</td>\n",
       "      <td>...</td>\n",
       "      <td>...</td>\n",
       "    </tr>\n",
       "    <tr>\n",
       "      <th>3368168</th>\n",
       "      <td>C</td>\n",
       "      <td>C4</td>\n",
       "      <td>MORTGAGE</td>\n",
       "      <td>Verified</td>\n",
       "      <td>debt_consolidation</td>\n",
       "      <td>f</td>\n",
       "      <td>INDIVIDUAL</td>\n",
       "    </tr>\n",
       "    <tr>\n",
       "      <th>15440103</th>\n",
       "      <td>B</td>\n",
       "      <td>B4</td>\n",
       "      <td>MORTGAGE</td>\n",
       "      <td>Verified</td>\n",
       "      <td>credit_card</td>\n",
       "      <td>w</td>\n",
       "      <td>INDIVIDUAL</td>\n",
       "    </tr>\n",
       "    <tr>\n",
       "      <th>9025241</th>\n",
       "      <td>C</td>\n",
       "      <td>C1</td>\n",
       "      <td>MORTGAGE</td>\n",
       "      <td>Verified</td>\n",
       "      <td>debt_consolidation</td>\n",
       "      <td>f</td>\n",
       "      <td>INDIVIDUAL</td>\n",
       "    </tr>\n",
       "    <tr>\n",
       "      <th>7635967</th>\n",
       "      <td>C</td>\n",
       "      <td>C2</td>\n",
       "      <td>MORTGAGE</td>\n",
       "      <td>Not Verified</td>\n",
       "      <td>debt_consolidation</td>\n",
       "      <td>w</td>\n",
       "      <td>INDIVIDUAL</td>\n",
       "    </tr>\n",
       "    <tr>\n",
       "      <th>348233</th>\n",
       "      <td>B</td>\n",
       "      <td>B3</td>\n",
       "      <td>MORTGAGE</td>\n",
       "      <td>Not Verified</td>\n",
       "      <td>debt_consolidation</td>\n",
       "      <td>f</td>\n",
       "      <td>INDIVIDUAL</td>\n",
       "    </tr>\n",
       "  </tbody>\n",
       "</table>\n",
       "<p>373028 rows × 7 columns</p>\n",
       "</div>\n",
       "      <button class=\"colab-df-convert\" onclick=\"convertToInteractive('df-e787e901-698b-4d8d-88fc-916a94146582')\"\n",
       "              title=\"Convert this dataframe to an interactive table.\"\n",
       "              style=\"display:none;\">\n",
       "        \n",
       "  <svg xmlns=\"http://www.w3.org/2000/svg\" height=\"24px\"viewBox=\"0 0 24 24\"\n",
       "       width=\"24px\">\n",
       "    <path d=\"M0 0h24v24H0V0z\" fill=\"none\"/>\n",
       "    <path d=\"M18.56 5.44l.94 2.06.94-2.06 2.06-.94-2.06-.94-.94-2.06-.94 2.06-2.06.94zm-11 1L8.5 8.5l.94-2.06 2.06-.94-2.06-.94L8.5 2.5l-.94 2.06-2.06.94zm10 10l.94 2.06.94-2.06 2.06-.94-2.06-.94-.94-2.06-.94 2.06-2.06.94z\"/><path d=\"M17.41 7.96l-1.37-1.37c-.4-.4-.92-.59-1.43-.59-.52 0-1.04.2-1.43.59L10.3 9.45l-7.72 7.72c-.78.78-.78 2.05 0 2.83L4 21.41c.39.39.9.59 1.41.59.51 0 1.02-.2 1.41-.59l7.78-7.78 2.81-2.81c.8-.78.8-2.07 0-2.86zM5.41 20L4 18.59l7.72-7.72 1.47 1.35L5.41 20z\"/>\n",
       "  </svg>\n",
       "      </button>\n",
       "      \n",
       "  <style>\n",
       "    .colab-df-container {\n",
       "      display:flex;\n",
       "      flex-wrap:wrap;\n",
       "      gap: 12px;\n",
       "    }\n",
       "\n",
       "    .colab-df-convert {\n",
       "      background-color: #E8F0FE;\n",
       "      border: none;\n",
       "      border-radius: 50%;\n",
       "      cursor: pointer;\n",
       "      display: none;\n",
       "      fill: #1967D2;\n",
       "      height: 32px;\n",
       "      padding: 0 0 0 0;\n",
       "      width: 32px;\n",
       "    }\n",
       "\n",
       "    .colab-df-convert:hover {\n",
       "      background-color: #E2EBFA;\n",
       "      box-shadow: 0px 1px 2px rgba(60, 64, 67, 0.3), 0px 1px 3px 1px rgba(60, 64, 67, 0.15);\n",
       "      fill: #174EA6;\n",
       "    }\n",
       "\n",
       "    [theme=dark] .colab-df-convert {\n",
       "      background-color: #3B4455;\n",
       "      fill: #D2E3FC;\n",
       "    }\n",
       "\n",
       "    [theme=dark] .colab-df-convert:hover {\n",
       "      background-color: #434B5C;\n",
       "      box-shadow: 0px 1px 3px 1px rgba(0, 0, 0, 0.15);\n",
       "      filter: drop-shadow(0px 1px 2px rgba(0, 0, 0, 0.3));\n",
       "      fill: #FFFFFF;\n",
       "    }\n",
       "  </style>\n",
       "\n",
       "      <script>\n",
       "        const buttonEl =\n",
       "          document.querySelector('#df-e787e901-698b-4d8d-88fc-916a94146582 button.colab-df-convert');\n",
       "        buttonEl.style.display =\n",
       "          google.colab.kernel.accessAllowed ? 'block' : 'none';\n",
       "\n",
       "        async function convertToInteractive(key) {\n",
       "          const element = document.querySelector('#df-e787e901-698b-4d8d-88fc-916a94146582');\n",
       "          const dataTable =\n",
       "            await google.colab.kernel.invokeFunction('convertToInteractive',\n",
       "                                                     [key], {});\n",
       "          if (!dataTable) return;\n",
       "\n",
       "          const docLinkHtml = 'Like what you see? Visit the ' +\n",
       "            '<a target=\"_blank\" href=https://colab.research.google.com/notebooks/data_table.ipynb>data table notebook</a>'\n",
       "            + ' to learn more about interactive tables.';\n",
       "          element.innerHTML = '';\n",
       "          dataTable['output_type'] = 'display_data';\n",
       "          await google.colab.output.renderOutput(dataTable, element);\n",
       "          const docLink = document.createElement('div');\n",
       "          docLink.innerHTML = docLinkHtml;\n",
       "          element.appendChild(docLink);\n",
       "        }\n",
       "      </script>\n",
       "    </div>\n",
       "  </div>\n",
       "  "
      ],
      "text/plain": [
       "         grade sub_grade  ... initial_list_status application_type\n",
       "id                        ...                                     \n",
       "10588532     A        A5  ...                   w       INDIVIDUAL\n",
       "11215587     D        D3  ...                   f       INDIVIDUAL\n",
       "14218271     D        D4  ...                   f       INDIVIDUAL\n",
       "6504869      A        A1  ...                   w       INDIVIDUAL\n",
       "3929378      B        B3  ...                   f       INDIVIDUAL\n",
       "...        ...       ...  ...                 ...              ...\n",
       "3368168      C        C4  ...                   f       INDIVIDUAL\n",
       "15440103     B        B4  ...                   w       INDIVIDUAL\n",
       "9025241      C        C1  ...                   f       INDIVIDUAL\n",
       "7635967      C        C2  ...                   w       INDIVIDUAL\n",
       "348233       B        B3  ...                   f       INDIVIDUAL\n",
       "\n",
       "[373028 rows x 7 columns]"
      ]
     },
     "execution_count": 19,
     "metadata": {},
     "output_type": "execute_result"
    }
   ],
   "source": [
    "X_train.select_dtypes(include='object')"
   ]
  },
  {
   "cell_type": "markdown",
   "metadata": {
    "id": "7RMhgkkgICWA"
   },
   "source": [
    "## Creating the BinningProcess instance"
   ]
  },
  {
   "cell_type": "code",
   "execution_count": 47,
   "metadata": {
    "id": "SuGztc57IhcV"
   },
   "outputs": [],
   "source": [
    "from optbinning import Scorecard, BinningProcess\n",
    "from sklearn.linear_model import LogisticRegression\n",
    "from sklearn.pipeline import Pipeline\n",
    "from sklearn.preprocessing import OneHotEncoder\n",
    "from sklearn.ensemble import GradientBoostingClassifier\n",
    "\n",
    "#metrics\n",
    "from optbinning.scorecard import plot_auc_roc,plot_cap, plot_ks\n",
    "from sklearn.metrics import mean_squared_error, r2_score,classification_report, auc, roc_curve"
   ]
  },
  {
   "cell_type": "markdown",
   "metadata": {
    "id": "YmOQp2cFIKJj"
   },
   "source": [
    "The Scorecard need an instance of BinningProcess with the corresponding data for the dataset and also an sklearn.linear_model.\n",
    "We can also provide a selection_criteria for the selection of features."
   ]
  },
  {
   "cell_type": "code",
   "execution_count": 22,
   "metadata": {
    "id": "1iwzKak1IIk1"
   },
   "outputs": [],
   "source": [
    "list_features = X_train.columns.values\n",
    "list_categorical = X_train.select_dtypes(include=['object', 'category']).columns.values\n",
    "selection_criteria = {\"iv\": {\"min\": 0.005, 'max':0.5, \"strategy\": \"highest\"}}"
   ]
  },
  {
   "cell_type": "code",
   "execution_count": 23,
   "metadata": {
    "id": "8sv4gXmnIZC_"
   },
   "outputs": [],
   "source": [
    "binning_process = BinningProcess(\n",
    "    categorical_variables=list_categorical,\n",
    "    variable_names=list_features,\n",
    "    selection_criteria=selection_criteria,\n",
    ")"
   ]
  },
  {
   "cell_type": "markdown",
   "metadata": {
    "id": "yt7oHie5JVb6"
   },
   "source": [
    "## Defining the Linear Estimator\n",
    "\n",
    "Scorecard accepts any Linear Estimator from Scikit-Learn."
   ]
  },
  {
   "cell_type": "code",
   "execution_count": 24,
   "metadata": {
    "id": "h0mCr2lJJXrs"
   },
   "outputs": [],
   "source": [
    "logreg = LogisticRegression(C=3, max_iter=1000, random_state=161, class_weight = 'balanced')"
   ]
  },
  {
   "cell_type": "code",
   "execution_count": 25,
   "metadata": {
    "id": "ajkP3malHCXm"
   },
   "outputs": [],
   "source": [
    "lr = Pipeline(steps=[('binning_process', binning_process),\n",
    "                     ('regressor', logreg)])"
   ]
  },
  {
   "cell_type": "code",
   "execution_count": 26,
   "metadata": {
    "colab": {
     "base_uri": "https://localhost:8080/"
    },
    "id": "NFcdgGC7HTR9",
    "outputId": "e73a945e-1ce2-485d-fa0e-7c8125fbb9d4"
   },
   "outputs": [
    {
     "data": {
      "text/plain": [
       "Pipeline(steps=[('binning_process',\n",
       "                 BinningProcess(categorical_variables=array(['grade', 'sub_grade', 'home_ownership', 'verification_status',\n",
       "       'purpose', 'initial_list_status', 'application_type'], dtype=object),\n",
       "                                selection_criteria={'iv': {'max': 0.5,\n",
       "                                                           'min': 0.005,\n",
       "                                                           'strategy': 'highest'}},\n",
       "                                variable_names=array(['loan_amnt', 'funded_amnt', 'funded_amnt_inv', 'term', 'i...\n",
       "       'total_rec_prncp', 'total_rec_int', 'total_rec_late_fee',\n",
       "       'last_pymnt_amnt', 'collections_12_mths_ex_med', 'policy_code',\n",
       "       'application_type', 'acc_now_delinq', 'total_rev_hi_lim',\n",
       "       'mths_since_earliest_cr_line', 'mths_since_issue_d',\n",
       "       'mths_since_last_pymnt_d', 'mths_since_last_credit_pull_d'],\n",
       "      dtype=object))),\n",
       "                ('regressor',\n",
       "                 LogisticRegression(C=3, class_weight='balanced', max_iter=1000,\n",
       "                                    random_state=161))])"
      ]
     },
     "execution_count": 26,
     "metadata": {},
     "output_type": "execute_result"
    }
   ],
   "source": [
    "lr.fit(X_train, y_train)"
   ]
  },
  {
   "cell_type": "code",
   "execution_count": 27,
   "metadata": {
    "colab": {
     "base_uri": "https://localhost:8080/"
    },
    "id": "vdjPsK9CHTYr",
    "outputId": "0a0d5244-a69d-4049-9d3b-6c565a941ab5"
   },
   "outputs": [
    {
     "name": "stdout",
     "output_type": "stream",
     "text": [
      "MSE:      0.325\n",
      "R2 score: -2.342\n"
     ]
    }
   ],
   "source": [
    "y_test_predict = lr.predict(X_test)\n",
    "\n",
    "print(\"MSE:      {:.3f}\".format(mean_squared_error(y_test, y_test_predict)))\n",
    "print(\"R2 score: {:.3f}\".format(r2_score(y_test, y_test_predict)))"
   ]
  },
  {
   "cell_type": "code",
   "execution_count": 38,
   "metadata": {
    "colab": {
     "base_uri": "https://localhost:8080/"
    },
    "id": "xsgib8_xKNTA",
    "outputId": "c67601ce-f083-4245-b0ca-c1816deb324a"
   },
   "outputs": [
    {
     "name": "stdout",
     "output_type": "stream",
     "text": [
      "              precision    recall  f1-score   support\n",
      "\n",
      "           0       0.20      0.67      0.31     10194\n",
      "           1       0.94      0.68      0.79     83063\n",
      "\n",
      "    accuracy                           0.67     93257\n",
      "   macro avg       0.57      0.67      0.55     93257\n",
      "weighted avg       0.86      0.67      0.73     93257\n",
      "\n"
     ]
    }
   ],
   "source": [
    "print(classification_report(y_test, y_test_predict))"
   ]
  },
  {
   "cell_type": "code",
   "execution_count": 48,
   "metadata": {
    "id": "WJh1rbvkKazr"
   },
   "outputs": [],
   "source": [
    "probs = lr.predict_proba(X_test)\n",
    "preds = probs[:,1]\n",
    "fpr1, tpr1, threshold = roc_curve(y_test, y_test_predict)\n",
    "roc_auc1 = auc(fpr1, tpr1)"
   ]
  },
  {
   "cell_type": "code",
   "execution_count": 49,
   "metadata": {
    "colab": {
     "base_uri": "https://localhost:8080/",
     "height": 295
    },
    "id": "qGxIA8DvLCgI",
    "outputId": "21760343-c08f-438b-aa86-b941f49d0e07"
   },
   "outputs": [
    {
     "data": {
      "image/png": "[encoded data removed]",
      "text/plain": [
       "<Figure size 432x288 with 1 Axes>"
      ]
     },
     "metadata": {
      "needs_background": "light"
     },
     "output_type": "display_data"
    }
   ],
   "source": [
    "plt.title('Receiver Operating Characteristic')\n",
    "plt.plot(fpr1, tpr1, 'b', label='Binning+LR: AUC = {0:.2f}'.format(roc_auc1))\n",
    "plt.legend(loc='lower right')\n",
    "plt.plot([0, 1], [0, 1],'k--')\n",
    "plt.xlim([0, 1])\n",
    "plt.ylim([0, 1])\n",
    "plt.ylabel('True Positive Rate')\n",
    "plt.xlabel('False Positive Rate')\n",
    "plt.show()"
   ]
  },
  {
   "cell_type": "markdown",
   "metadata": {
    "id": "2MvSjtKUJkPS"
   },
   "source": [
    "## Creating a Scorecard\n",
    "To instantiate the Scorecard class you need to pass as parameters the binning_process and linear model (log_reg),"
   ]
  },
  {
   "cell_type": "code",
   "execution_count": 24,
   "metadata": {
    "colab": {
     "base_uri": "https://localhost:8080/"
    },
    "id": "zU4chvD8Jod_",
    "outputId": "ced9c950-106b-4fa4-a685-0c95ee7f2fa8"
   },
   "outputs": [
    {
     "data": {
      "text/plain": [
       "(373028, 39)"
      ]
     },
     "execution_count": 24,
     "metadata": {},
     "output_type": "execute_result"
    }
   ],
   "source": [
    "X_train.shape"
   ]
  },
  {
   "cell_type": "code",
   "execution_count": 25,
   "metadata": {
    "colab": {
     "base_uri": "https://localhost:8080/"
    },
    "id": "6JXtFwHYJrv1",
    "outputId": "bced9a4e-84af-452d-d1e3-5a9cebae895f"
   },
   "outputs": [
    {
     "data": {
      "text/plain": [
       "Scorecard(binning_process=BinningProcess(categorical_variables=array(['grade', 'sub_grade', 'home_ownership', 'verification_status',\n",
       "       'purpose', 'initial_list_status', 'application_type'], dtype=object),\n",
       "                                         selection_criteria={'iv': {'max': 0.5,\n",
       "                                                                    'min': 0.005,\n",
       "                                                                    'strategy': 'highest'}},\n",
       "                                         variable_names=array(['loan_amnt', 'funded_amnt', 'funded_amnt_inv', 'term', 'int_rate',...\n",
       "       'application_type', 'acc_now_delinq', 'total_rev_hi_lim',\n",
       "       'mths_since_earliest_cr_line', 'mths_since_issue_d',\n",
       "       'mths_since_last_pymnt_d', 'mths_since_last_credit_pull_d'],\n",
       "      dtype=object)),\n",
       "          estimator=LogisticRegression(C=3, class_weight='balanced',\n",
       "                                       max_iter=1000, random_state=161),\n",
       "          reverse_scorecard=True, scaling_method='min_max',\n",
       "          scaling_method_params={'max': 1000, 'min': 0})"
      ]
     },
     "execution_count": 25,
     "metadata": {},
     "output_type": "execute_result"
    }
   ],
   "source": [
    "scaling_method = \"min_max\"\n",
    "scaling_method_data = {\"min\": 0, \"max\": 1000}\n",
    "scorecard = Scorecard(\n",
    "    binning_process=binning_process,\n",
    "    estimator=logreg,\n",
    "    scaling_method=scaling_method,\n",
    "    scaling_method_params=scaling_method_data,\n",
    "    intercept_based=False,\n",
    "    reverse_scorecard=True,\n",
    ")\n",
    "scorecard.fit(X_train,y_train)"
   ]
  },
  {
   "cell_type": "markdown",
   "metadata": {
    "id": "jRQy-9mR7F6L"
   },
   "source": [
    "### Visualizing Scorecard"
   ]
  },
  {
   "cell_type": "code",
   "execution_count": 26,
   "metadata": {
    "colab": {
     "base_uri": "https://localhost:8080/",
     "height": 424
    },
    "id": "I0SqRHepsqa9",
    "outputId": "f763b5ad-f8b6-4995-e3cd-2facd95c7e5c"
   },
   "outputs": [
    {
     "data": {
      "text/html": [
       "\n",
       "  <div id=\"df-269fdcbd-63f8-4303-a1f6-cb26a941972d\">\n",
       "    <div class=\"colab-df-container\">\n",
       "      <div>\n",
       "<style scoped>\n",
       "    .dataframe tbody tr th:only-of-type {\n",
       "        vertical-align: middle;\n",
       "    }\n",
       "\n",
       "    .dataframe tbody tr th {\n",
       "        vertical-align: top;\n",
       "    }\n",
       "\n",
       "    .dataframe thead th {\n",
       "        text-align: right;\n",
       "    }\n",
       "</style>\n",
       "<table border=\"1\" class=\"dataframe\">\n",
       "  <thead>\n",
       "    <tr style=\"text-align: right;\">\n",
       "      <th></th>\n",
       "      <th>Variable</th>\n",
       "      <th>Bin id</th>\n",
       "      <th>Bin</th>\n",
       "      <th>Count</th>\n",
       "      <th>Count (%)</th>\n",
       "      <th>Non-event</th>\n",
       "      <th>Event</th>\n",
       "      <th>Event rate</th>\n",
       "      <th>WoE</th>\n",
       "      <th>IV</th>\n",
       "      <th>JS</th>\n",
       "      <th>Coefficient</th>\n",
       "      <th>Points</th>\n",
       "    </tr>\n",
       "  </thead>\n",
       "  <tbody>\n",
       "    <tr>\n",
       "      <th>0</th>\n",
       "      <td>term</td>\n",
       "      <td>0</td>\n",
       "      <td>(-inf, 48.00)</td>\n",
       "      <td>270199</td>\n",
       "      <td>0.724</td>\n",
       "      <td>26145</td>\n",
       "      <td>244054</td>\n",
       "      <td>0.903</td>\n",
       "      <td>-0.136</td>\n",
       "      <td>0.013</td>\n",
       "      <td>0.002</td>\n",
       "      <td>-0.385</td>\n",
       "      <td>31.961</td>\n",
       "    </tr>\n",
       "    <tr>\n",
       "      <th>1</th>\n",
       "      <td>term</td>\n",
       "      <td>1</td>\n",
       "      <td>[48.00, inf)</td>\n",
       "      <td>102829</td>\n",
       "      <td>0.276</td>\n",
       "      <td>14629</td>\n",
       "      <td>88200</td>\n",
       "      <td>0.858</td>\n",
       "      <td>0.301</td>\n",
       "      <td>0.028</td>\n",
       "      <td>0.004</td>\n",
       "      <td>-0.385</td>\n",
       "      <td>12.193</td>\n",
       "    </tr>\n",
       "    <tr>\n",
       "      <th>2</th>\n",
       "      <td>term</td>\n",
       "      <td>2</td>\n",
       "      <td>Special</td>\n",
       "      <td>0</td>\n",
       "      <td>0.000</td>\n",
       "      <td>0</td>\n",
       "      <td>0</td>\n",
       "      <td>0.000</td>\n",
       "      <td>0.000</td>\n",
       "      <td>0.000</td>\n",
       "      <td>0.000</td>\n",
       "      <td>-0.385</td>\n",
       "      <td>25.816</td>\n",
       "    </tr>\n",
       "    <tr>\n",
       "      <th>3</th>\n",
       "      <td>term</td>\n",
       "      <td>3</td>\n",
       "      <td>Missing</td>\n",
       "      <td>0</td>\n",
       "      <td>0.000</td>\n",
       "      <td>0</td>\n",
       "      <td>0</td>\n",
       "      <td>0.000</td>\n",
       "      <td>0.000</td>\n",
       "      <td>0.000</td>\n",
       "      <td>0.000</td>\n",
       "      <td>-0.385</td>\n",
       "      <td>25.816</td>\n",
       "    </tr>\n",
       "    <tr>\n",
       "      <th>0</th>\n",
       "      <td>int_rate</td>\n",
       "      <td>0</td>\n",
       "      <td>(-inf, 7.50)</td>\n",
       "      <td>23548</td>\n",
       "      <td>0.063</td>\n",
       "      <td>595</td>\n",
       "      <td>22953</td>\n",
       "      <td>0.975</td>\n",
       "      <td>-1.555</td>\n",
       "      <td>0.085</td>\n",
       "      <td>0.010</td>\n",
       "      <td>-0.628</td>\n",
       "      <td>140.405</td>\n",
       "    </tr>\n",
       "    <tr>\n",
       "      <th>...</th>\n",
       "      <td>...</td>\n",
       "      <td>...</td>\n",
       "      <td>...</td>\n",
       "      <td>...</td>\n",
       "      <td>...</td>\n",
       "      <td>...</td>\n",
       "      <td>...</td>\n",
       "      <td>...</td>\n",
       "      <td>...</td>\n",
       "      <td>...</td>\n",
       "      <td>...</td>\n",
       "      <td>...</td>\n",
       "      <td>...</td>\n",
       "    </tr>\n",
       "    <tr>\n",
       "      <th>2</th>\n",
       "      <td>mths_since_last_credit_pull_d</td>\n",
       "      <td>2</td>\n",
       "      <td>[59.50, 64.50)</td>\n",
       "      <td>24875</td>\n",
       "      <td>0.067</td>\n",
       "      <td>3961</td>\n",
       "      <td>20914</td>\n",
       "      <td>0.841</td>\n",
       "      <td>0.434</td>\n",
       "      <td>0.015</td>\n",
       "      <td>0.002</td>\n",
       "      <td>-0.743</td>\n",
       "      <td>-12.033</td>\n",
       "    </tr>\n",
       "    <tr>\n",
       "      <th>3</th>\n",
       "      <td>mths_since_last_credit_pull_d</td>\n",
       "      <td>3</td>\n",
       "      <td>[64.50, 73.50)</td>\n",
       "      <td>27481</td>\n",
       "      <td>0.074</td>\n",
       "      <td>6091</td>\n",
       "      <td>21390</td>\n",
       "      <td>0.778</td>\n",
       "      <td>0.842</td>\n",
       "      <td>0.072</td>\n",
       "      <td>0.009</td>\n",
       "      <td>-0.743</td>\n",
       "      <td>-47.603</td>\n",
       "    </tr>\n",
       "    <tr>\n",
       "      <th>4</th>\n",
       "      <td>mths_since_last_credit_pull_d</td>\n",
       "      <td>4</td>\n",
       "      <td>[73.50, inf)</td>\n",
       "      <td>27729</td>\n",
       "      <td>0.074</td>\n",
       "      <td>6484</td>\n",
       "      <td>21245</td>\n",
       "      <td>0.766</td>\n",
       "      <td>0.911</td>\n",
       "      <td>0.087</td>\n",
       "      <td>0.010</td>\n",
       "      <td>-0.743</td>\n",
       "      <td>-53.650</td>\n",
       "    </tr>\n",
       "    <tr>\n",
       "      <th>5</th>\n",
       "      <td>mths_since_last_credit_pull_d</td>\n",
       "      <td>5</td>\n",
       "      <td>Special</td>\n",
       "      <td>0</td>\n",
       "      <td>0.000</td>\n",
       "      <td>0</td>\n",
       "      <td>0</td>\n",
       "      <td>0.000</td>\n",
       "      <td>0.000</td>\n",
       "      <td>0.000</td>\n",
       "      <td>0.000</td>\n",
       "      <td>-0.743</td>\n",
       "      <td>25.816</td>\n",
       "    </tr>\n",
       "    <tr>\n",
       "      <th>6</th>\n",
       "      <td>mths_since_last_credit_pull_d</td>\n",
       "      <td>6</td>\n",
       "      <td>Missing</td>\n",
       "      <td>30</td>\n",
       "      <td>0.000</td>\n",
       "      <td>3</td>\n",
       "      <td>27</td>\n",
       "      <td>0.900</td>\n",
       "      <td>-0.099</td>\n",
       "      <td>0.000</td>\n",
       "      <td>0.000</td>\n",
       "      <td>-0.743</td>\n",
       "      <td>34.483</td>\n",
       "    </tr>\n",
       "  </tbody>\n",
       "</table>\n",
       "<p>196 rows × 13 columns</p>\n",
       "</div>\n",
       "      <button class=\"colab-df-convert\" onclick=\"convertToInteractive('df-269fdcbd-63f8-4303-a1f6-cb26a941972d')\"\n",
       "              title=\"Convert this dataframe to an interactive table.\"\n",
       "              style=\"display:none;\">\n",
       "        \n",
       "  <svg xmlns=\"http://www.w3.org/2000/svg\" height=\"24px\"viewBox=\"0 0 24 24\"\n",
       "       width=\"24px\">\n",
       "    <path d=\"M0 0h24v24H0V0z\" fill=\"none\"/>\n",
       "    <path d=\"M18.56 5.44l.94 2.06.94-2.06 2.06-.94-2.06-.94-.94-2.06-.94 2.06-2.06.94zm-11 1L8.5 8.5l.94-2.06 2.06-.94-2.06-.94L8.5 2.5l-.94 2.06-2.06.94zm10 10l.94 2.06.94-2.06 2.06-.94-2.06-.94-.94-2.06-.94 2.06-2.06.94z\"/><path d=\"M17.41 7.96l-1.37-1.37c-.4-.4-.92-.59-1.43-.59-.52 0-1.04.2-1.43.59L10.3 9.45l-7.72 7.72c-.78.78-.78 2.05 0 2.83L4 21.41c.39.39.9.59 1.41.59.51 0 1.02-.2 1.41-.59l7.78-7.78 2.81-2.81c.8-.78.8-2.07 0-2.86zM5.41 20L4 18.59l7.72-7.72 1.47 1.35L5.41 20z\"/>\n",
       "  </svg>\n",
       "      </button>\n",
       "      \n",
       "  <style>\n",
       "    .colab-df-container {\n",
       "      display:flex;\n",
       "      flex-wrap:wrap;\n",
       "      gap: 12px;\n",
       "    }\n",
       "\n",
       "    .colab-df-convert {\n",
       "      background-color: #E8F0FE;\n",
       "      border: none;\n",
       "      border-radius: 50%;\n",
       "      cursor: pointer;\n",
       "      display: none;\n",
       "      fill: #1967D2;\n",
       "      height: 32px;\n",
       "      padding: 0 0 0 0;\n",
       "      width: 32px;\n",
       "    }\n",
       "\n",
       "    .colab-df-convert:hover {\n",
       "      background-color: #E2EBFA;\n",
       "      box-shadow: 0px 1px 2px rgba(60, 64, 67, 0.3), 0px 1px 3px 1px rgba(60, 64, 67, 0.15);\n",
       "      fill: #174EA6;\n",
       "    }\n",
       "\n",
       "    [theme=dark] .colab-df-convert {\n",
       "      background-color: #3B4455;\n",
       "      fill: #D2E3FC;\n",
       "    }\n",
       "\n",
       "    [theme=dark] .colab-df-convert:hover {\n",
       "      background-color: #434B5C;\n",
       "      box-shadow: 0px 1px 3px 1px rgba(0, 0, 0, 0.15);\n",
       "      filter: drop-shadow(0px 1px 2px rgba(0, 0, 0, 0.3));\n",
       "      fill: #FFFFFF;\n",
       "    }\n",
       "  </style>\n",
       "\n",
       "      <script>\n",
       "        const buttonEl =\n",
       "          document.querySelector('#df-269fdcbd-63f8-4303-a1f6-cb26a941972d button.colab-df-convert');\n",
       "        buttonEl.style.display =\n",
       "          google.colab.kernel.accessAllowed ? 'block' : 'none';\n",
       "\n",
       "        async function convertToInteractive(key) {\n",
       "          const element = document.querySelector('#df-269fdcbd-63f8-4303-a1f6-cb26a941972d');\n",
       "          const dataTable =\n",
       "            await google.colab.kernel.invokeFunction('convertToInteractive',\n",
       "                                                     [key], {});\n",
       "          if (!dataTable) return;\n",
       "\n",
       "          const docLinkHtml = 'Like what you see? Visit the ' +\n",
       "            '<a target=\"_blank\" href=https://colab.research.google.com/notebooks/data_table.ipynb>data table notebook</a>'\n",
       "            + ' to learn more about interactive tables.';\n",
       "          element.innerHTML = '';\n",
       "          dataTable['output_type'] = 'display_data';\n",
       "          await google.colab.output.renderOutput(dataTable, element);\n",
       "          const docLink = document.createElement('div');\n",
       "          docLink.innerHTML = docLinkHtml;\n",
       "          element.appendChild(docLink);\n",
       "        }\n",
       "      </script>\n",
       "    </div>\n",
       "  </div>\n",
       "  "
      ],
      "text/plain": [
       "                         Variable  Bin id  ... Coefficient   Points\n",
       "0                            term       0  ...      -0.385   31.961\n",
       "1                            term       1  ...      -0.385   12.193\n",
       "2                            term       2  ...      -0.385   25.816\n",
       "3                            term       3  ...      -0.385   25.816\n",
       "0                        int_rate       0  ...      -0.628  140.405\n",
       "..                            ...     ...  ...         ...      ...\n",
       "2   mths_since_last_credit_pull_d       2  ...      -0.743  -12.033\n",
       "3   mths_since_last_credit_pull_d       3  ...      -0.743  -47.603\n",
       "4   mths_since_last_credit_pull_d       4  ...      -0.743  -53.650\n",
       "5   mths_since_last_credit_pull_d       5  ...      -0.743   25.816\n",
       "6   mths_since_last_credit_pull_d       6  ...      -0.743   34.483\n",
       "\n",
       "[196 rows x 13 columns]"
      ]
     },
     "execution_count": 26,
     "metadata": {},
     "output_type": "execute_result"
    }
   ],
   "source": [
    "scorecard_summary = scorecard.table(style=\"detailed\").round(3)\n",
    "scorecard_summary.to_csv('scorecard_table_detailed.csv', index=False)\n",
    "scorecard_summary"
   ]
  },
  {
   "cell_type": "markdown",
   "metadata": {
    "id": "rAFsYY0Quy9v"
   },
   "source": [
    "## Visualizing Scorecard performance"
   ]
  },
  {
   "cell_type": "code",
   "execution_count": 27,
   "metadata": {
    "id": "V9LCVSfF7QQY"
   },
   "outputs": [],
   "source": [
    "X_test.loc[:,\"predict_proba\"] = scorecard.predict_proba(X_test)[:, 1]\n",
    "X_test.loc[:,\"score\"] = scorecard.score(X_test)"
   ]
  },
  {
   "cell_type": "code",
   "execution_count": 29,
   "metadata": {
    "id": "rzWImTj5nfj0"
   },
   "outputs": [],
   "source": [
    "plot_ks(y_test, X_test.score, savefig=True, fname='scorecard_ks_plot.jpeg', dpi=100)"
   ]
  },
  {
   "cell_type": "code",
   "execution_count": 30,
   "metadata": {
    "colab": {
     "base_uri": "https://localhost:8080/",
     "height": 299
    },
    "id": "ptJIfwet7s3R",
    "outputId": "d374a224-6191-4cfc-8e22-62e432552f47"
   },
   "outputs": [
    {
     "data": {
      "image/png": "[encoded data removed]",
      "text/plain": [
       "<Figure size 432x288 with 1 Axes>"
      ]
     },
     "metadata": {
      "needs_background": "light"
     },
     "output_type": "display_data"
    }
   ],
   "source": [
    "plot_ks(y_test, X_test.predict_proba)"
   ]
  },
  {
   "cell_type": "markdown",
   "metadata": {
    "id": "tCvwQonJum1J"
   },
   "source": [
    "## Interpret the ROC curve\n",
    "The ROC (Receiver Operating Characteristics) curve shows the trade-off between sensitivity (or TPR) and specificity (1 – FPR). Classifiers that give curves closer to the top-left corner indicate a better performance. AUC (Area Under The Curve) represents the degree or measure of separability. Higher the AUC, the better the model is at predicting 0 classes as 0 and 1 classes as 1"
   ]
  },
  {
   "cell_type": "code",
   "execution_count": 31,
   "metadata": {
    "id": "6rT0jMb1nsPT"
   },
   "outputs": [],
   "source": [
    "# ROC-AUC plot\n",
    "plot_auc_roc(y_test, X_test.score, savefig=True, fname='scorecard_rocauc_plot.jpeg', dpi=100)"
   ]
  },
  {
   "cell_type": "code",
   "execution_count": 32,
   "metadata": {
    "colab": {
     "base_uri": "https://localhost:8080/",
     "height": 299
    },
    "id": "YrgiW5Vs74Zi",
    "outputId": "8ec63b89-13b1-4a52-bf75-95fdc8dc2535"
   },
   "outputs": [
    {
     "data": {
      "image/png": "[encoded data removed]",
      "text/plain": [
       "<Figure size 432x288 with 1 Axes>"
      ]
     },
     "metadata": {
      "needs_background": "light"
     },
     "output_type": "display_data"
    }
   ],
   "source": [
    "plot_auc_roc(y_test, X_test.predict_proba)"
   ]
  },
  {
   "cell_type": "markdown",
   "metadata": {
    "id": "wNE_lZuL79zS"
   },
   "source": [
    "## Saving the Scorecard as pickle and using it for prediction\n",
    "\n",
    "Scorecard objects can easily be pickled and saved for further usage or put into production."
   ]
  },
  {
   "cell_type": "markdown",
   "metadata": {
    "id": "Dv1mACAL8D0W"
   },
   "source": [
    "## Pickling Scorecard"
   ]
  },
  {
   "cell_type": "code",
   "execution_count": 33,
   "metadata": {
    "id": "dRGxrmSK8DKh"
   },
   "outputs": [],
   "source": [
    "import pickle\n",
    "\n",
    "with open('scorecard_model.pickle', 'wb') as pfile:\n",
    "   pickle.dump(scorecard, pfile)"
   ]
  },
  {
   "cell_type": "markdown",
   "metadata": {
    "id": "UmTrcRUq8I7J"
   },
   "source": [
    "## Unpickling Scorecard"
   ]
  },
  {
   "cell_type": "code",
   "execution_count": 34,
   "metadata": {
    "colab": {
     "base_uri": "https://localhost:8080/"
    },
    "id": "AyqLW69U8DNh",
    "outputId": "94b9d8ec-8baa-470e-ea31-08a7fb8f2428"
   },
   "outputs": [
    {
     "name": "stdout",
     "output_type": "stream",
     "text": [
      "Scorecard(binning_process=BinningProcess(categorical_variables=array(['grade', 'sub_grade', 'home_ownership', 'verification_status',\n",
      "       'purpose', 'initial_list_status', 'application_type'], dtype=object),\n",
      "                                         selection_criteria={'iv': {'max': 0.5,\n",
      "                                                                    'min': 0.005,\n",
      "                                                                    'strategy': 'highest'}},\n",
      "                                         variable_names=array(['loan_amnt', 'funded_amnt', 'funded_amnt_inv', 'term', 'int_rate',...\n",
      "       'application_type', 'acc_now_delinq', 'total_rev_hi_lim',\n",
      "       'mths_since_earliest_cr_line', 'mths_since_issue_d',\n",
      "       'mths_since_last_pymnt_d', 'mths_since_last_credit_pull_d'],\n",
      "      dtype=object)),\n",
      "          estimator=LogisticRegression(C=3, class_weight='balanced',\n",
      "                                       max_iter=1000, random_state=161),\n",
      "          reverse_scorecard=True, scaling_method='min_max',\n",
      "          scaling_method_params={'max': 1000, 'min': 0})\n"
     ]
    }
   ],
   "source": [
    "with open(\"scorecard_model.pickle\", 'rb') as scorecard_pickle:\n",
    "    scorecard_production = pickle.load(scorecard_pickle)\n",
    "print(scorecard_production)"
   ]
  },
  {
   "cell_type": "markdown",
   "metadata": {
    "id": "7YxRhrCF8MwC"
   },
   "source": [
    "## Performing predictions in production"
   ]
  },
  {
   "cell_type": "code",
   "execution_count": 35,
   "metadata": {
    "colab": {
     "base_uri": "https://localhost:8080/"
    },
    "id": "qDSDsCPO7-nd",
    "outputId": "165eb776-9be9-47c4-9070-13aeb0964fed"
   },
   "outputs": [
    {
     "data": {
      "text/plain": [
       "array([462.1689143])"
      ]
     },
     "execution_count": 35,
     "metadata": {},
     "output_type": "execute_result"
    }
   ],
   "source": [
    "# For one sample\n",
    "scorecard_production.score(X_test.iloc[0:1, :])"
   ]
  },
  {
   "cell_type": "code",
   "execution_count": 36,
   "metadata": {
    "colab": {
     "base_uri": "https://localhost:8080/"
    },
    "id": "QPeZKvtx8QqN",
    "outputId": "33108ac1-29ea-43bc-9baf-2557681af2a1"
   },
   "outputs": [
    {
     "data": {
      "text/plain": [
       "array([462.1689143 , 755.20507852, 573.67267116])"
      ]
     },
     "execution_count": 36,
     "metadata": {},
     "output_type": "execute_result"
    }
   ],
   "source": [
    "# For a few samples\n",
    "scorecard_production.score(X_test.iloc[0:3, :])"
   ]
  }
 ],
 "metadata": {
  "colab": {
   "collapsed_sections": [],
   "name": "Capstone II - Clean Data Model.ipynb",
   "provenance": []
  },
  "kernelspec": {
   "display_name": "Python 3",
   "language": "python",
   "name": "python3"
  },
  "language_info": {
   "codemirror_mode": {
    "name": "ipython",
    "version": 3
   },
   "file_extension": ".py",
   "mimetype": "text/x-python",
   "name": "python",
   "nbconvert_exporter": "python",
   "pygments_lexer": "ipython3",
   "version": "3.7.6"
  }
 },
 "nbformat": 4,
 "nbformat_minor": 1
}
